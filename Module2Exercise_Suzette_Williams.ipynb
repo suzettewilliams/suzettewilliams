{
 "cells": [
  {
   "cell_type": "markdown",
   "metadata": {},
   "source": [
    "## Exercises\n",
    "### Write the pseudocode for these problems. \n",
    "\n",
    "#### Define the problem by constructing an IPO diagram showing input, output, and processing steps\n",
    "Ask yourself\n",
    "- What control structures (sequence, selection and repetition) are required?\n",
    "- What variables are required?\n",
    "\n",
    "Show a check of your solution with **test data** for at least **two valid test cases**\n",
    "If you use the numbers provided in the example then the correct pseudocode will calculate the same result.\n",
    "    "
   ]
  },
  {
   "cell_type": "markdown",
   "metadata": {},
   "source": [
    "#### 1. Find the average score\n",
    "A program is needed to prompt the user operator for exam scores, calculate the average score and display the result to the screen. The average score is calculated as the sum of the scores divided by the number of scores."
   ]
  },
  {
   "cell_type": "markdown",
   "metadata": {},
   "source": [
    "BEGIN\n",
    "   set counter to 1\n",
    "   Set total to 0\n",
    "   Loop counter <= number of scores \n",
    "       Get user exam score\n",
    "       Add score to total\n",
    "       Add 1 to counter\n",
    "    EndLoop\n",
    "\n",
    "    Average = Divide total by number of scores\n",
    "    Print average\n",
    "END\n",
    "\n",
    "\n",
    "Input: Exam scores\n",
    "Process: sum of scores/n\n",
    "output: avg of all scores\n"
   ]
  },
  {
   "cell_type": "markdown",
   "metadata": {},
   "source": [
    "#### 2. How much water runs off a roof in a rain storm?\n",
    "To calculate the runoff from any given rainfall: Take the dimensions of the footprint of the roof and convert them to inches. (So, a 50' x 20' roof is 600\" x 240\"). Multiply the roof dimensions by the number of inches of rainfall. As an example, 600\" x 240\" x 1\" = 144,000 cubic inches of water for an inch of rainfall. Divide that result by 231 to get the number of gallons (because 1 gallon = 231 cubic inches). (144,000/231 = 623.38)."
   ]
  },
  {
   "cell_type": "markdown",
   "metadata": {},
   "source": [
    "BEGIN\n",
    "    Get dimensions of roof\n",
    "    Get length in feet\n",
    "    Get width in feet\n",
    "    Roof dimensions in inches = 12(length*width)    \n",
    "    Get number of inches of rainfall\n",
    "    Total cubic inches of water = roof dimensions in inches * number of inches of rainfall\n",
    "    Number of gallons of water = Total cubic inches of water/231\n",
    "    Print value of number of gallons of water \n",
    "END"
   ]
  },
  {
   "cell_type": "markdown",
   "metadata": {},
   "source": [
    "#### 3. Process customer record\n",
    "A program is required to read a customer’s name, a purchase amount and a tax code. The tax code has been validated and will be one of the following: 0 tax exempt (0%) 1 state sales tax only (3%) 2 federal and state sales tax (5%) 3 special sales tax (7%) The program must then compute the sales tax and the total amount due,and print the customer’s name, purchase amount, sales tax and total amount due."
   ]
  },
  {
   "cell_type": "markdown",
   "metadata": {},
   "source": [
    "BEGIN\n",
    "    Get customer name\n",
    "    Get purchase amount\n",
    "    Get tax code\n",
    "    If tax code is 0, \n",
    "        set sales tax = 0\n",
    "    ELSE IF tax code is 1,\n",
    "        calculate sales tax\n",
    "            sales tax = 3% * purchase amount\n",
    "    ELSE IF tax code is 2,\n",
    "        calculate sales tax  \n",
    "            sales tax = 5% * purchase amount\n",
    "    ELSE IF tax code is 3,\n",
    "        Calculate sales tax\n",
    "            sales tax = 7% * purchase amount \n",
    "     \n",
    "   Calculate total amount due\n",
    "         total amount due = purchase amount + sales tax\n",
    "   Print customer name\n",
    "   Print purchase amount\n",
    "   Print sales tax \n",
    "   Print total amount due\n",
    "   \n",
    "END       "
   ]
  },
  {
   "cell_type": "markdown",
   "metadata": {},
   "source": [
    "#### 4. Calculate employee's pay \n",
    "A program is required by a company to read an employee’s number, pay rate and the number of hours worked in a week. The program is then to validate the pay rate field and the hours worked field and, if valid, compute the employee’s weekly pay and then print it and the input data.\n",
    "\n",
    "Validation: According to the company’s rules, the maximum hours an employee can work per week is 60 hours, and the maximum hourly rate is $25.00 per hour. If the hours worked field or the hourly rate field is out of range, the input data and an appropriate message are to be printed and the employee’s weekly pay is not to be calculated.\n",
    "\n",
    "Weekly pay calculation: Weekly pay is calculated as hours worked times pay rate. If more than 35 hours are worked, payment for the overtime hours worked is calculated at time-and-a-half."
   ]
  },
  {
   "cell_type": "markdown",
   "metadata": {},
   "source": [
    "BEGIN\n",
    "\n",
    "Get Employee Number\n",
    "Get Pay rate\n",
    "Get Hours worked\n",
    "\n",
    "If Pay rate <= 25\n",
    "   If Hours worked 0 > && =< 35\n",
    "      total weekly pay = pay rate * hours worked\n",
    "      print Employee number\n",
    "      print pay rate\n",
    "      print hours worked\n",
    "      print total weekly pay\n",
    "   Else If Hours worked > 35 && =< 60\n",
    "      Calculate overtime hours\n",
    "      overtime hours = hours worked - 35 hours\n",
    "      total weekly pay = (pay rate * 35 hours) + (overtime hours(payrate* 1.5) \n",
    "      print Employee number\n",
    "      print pay rate\n",
    "      print hours worked\n",
    "      print total Weekly pay\n",
    "   Else\n",
    "      print Employee number\n",
    "      print pay rate\n",
    "      print hours worked\n",
    "      print \"Will not be calculated\"\n",
    "Else\n",
    "      Then \n",
    "      print Employee number\n",
    "      print pay rate\n",
    "      print hours worked\n",
    "      print \"Will not be calculated\"\n",
    " \n",
    "\n",
    "END\n",
    "\n",
    "For example if an employee works 20 hours this week with a pay rate of $20.00 per hour, the amount worked this week will be $400.00 per week. If he works 40 hours the next week, the pay for next week will be (35 hours * $20) + 5(1.5*20) = $850 for next week total pay."
   ]
  }
 ],
 "metadata": {
  "kernelspec": {
   "display_name": "Python 3 (ipykernel)",
   "language": "python",
   "name": "python3"
  },
  "language_info": {
   "codemirror_mode": {
    "name": "ipython",
    "version": 3
   },
   "file_extension": ".py",
   "mimetype": "text/x-python",
   "name": "python",
   "nbconvert_exporter": "python",
   "pygments_lexer": "ipython3",
   "version": "3.9.12"
  }
 },
 "nbformat": 4,
 "nbformat_minor": 2
}
